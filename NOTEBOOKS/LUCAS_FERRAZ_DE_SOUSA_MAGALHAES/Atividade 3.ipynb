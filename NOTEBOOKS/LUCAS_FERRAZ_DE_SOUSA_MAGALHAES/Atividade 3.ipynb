{
  "nbformat": 4,
  "nbformat_minor": 0,
  "metadata": {
    "colab": {
      "provenance": []
    },
    "kernelspec": {
      "name": "python3",
      "display_name": "Python 3"
    },
    "language_info": {
      "name": "python"
    }
  },
  "cells": [
    {
      "cell_type": "code",
      "execution_count": 3,
      "metadata": {
        "id": "C6BGTeji6GwS"
      },
      "outputs": [],
      "source": [
        "import pandas as pd\n",
        "\n",
        "# URL do dataset Wine\n",
        "url = 'https://archive.ics.uci.edu/ml/machine-learning-databases/wine/wine.data'\n",
        "\n",
        "# Nome das colunas em português BR\n",
        "column_names_pt_br = [\n",
        "    'classe',\n",
        "    'alcool',\n",
        "    'acido_malico',\n",
        "    'cinzas',\n",
        "    'alcalinidade_de_cinzas',\n",
        "    'magnesio',\n",
        "    'fenois_totais',\n",
        "    'flavanoides',\n",
        "    'fenois_nao_flavanoides',\n",
        "    'proantocianinas',\n",
        "    'intensidade_de_cor',\n",
        "    'matiz',\n",
        "    'od280_od315_de_vinhos_diluidos',\n",
        "    'prolina'\n",
        "]\n",
        "\n",
        "# Ler o arquivo CSV com as colunas especificadas, definindo a coluna 'classe' como object\n",
        "vinhos = pd.read_csv(url, names=column_names_pt_br, dtype={'classe': object})"
      ]
    },
    {
      "cell_type": "code",
      "source": [
        "\n",
        "from sklearn.model_selection import train_test_split\n",
        "\n",
        "\n",
        "def dividir_treino_teste(vinhos, random_state):\n",
        "    X = vinhos.iloc[:, 1:]\n",
        "    y = vinhos['classe']\n",
        "    return train_test_split(X, y, test_size=0.3, random_state=random_state)\n",
        "\n",
        "\n",
        "random_states = [42, 17, 24]\n",
        "splits = {rs: dividir_treino_teste(vinhos, rs) for rs in random_states}\n",
        "\n",
        "\n",
        "for rs, (X_train, X_test, y_train, y_test) in splits.items():\n",
        "    print(f\"Random State {rs} -> Treino: {X_train.shape}, Teste: {X_test.shape}\")\n"
      ],
      "metadata": {
        "colab": {
          "base_uri": "https://localhost:8080/"
        },
        "id": "vClf_x2w8WBG",
        "outputId": "ac9e6f36-8a50-434b-af80-bc889fbf6735"
      },
      "execution_count": 4,
      "outputs": [
        {
          "output_type": "stream",
          "name": "stdout",
          "text": [
            "Random State 42 -> Treino: (124, 13), Teste: (54, 13)\n",
            "Random State 17 -> Treino: (124, 13), Teste: (54, 13)\n",
            "Random State 24 -> Treino: (124, 13), Teste: (54, 13)\n"
          ]
        }
      ]
    },
    {
      "cell_type": "code",
      "source": [
        "\n",
        "from sklearn.neighbors import KNeighborsClassifier\n",
        "from sklearn.metrics import accuracy_score\n",
        "\n",
        "\n",
        "def treinar_avaliar_knn(X_train, X_test, y_train, y_test, k):\n",
        "    knn = KNeighborsClassifier(n_neighbors=k)\n",
        "    knn.fit(X_train, y_train)\n",
        "    y_pred = knn.predict(X_test)\n",
        "    return accuracy_score(y_test, y_pred)\n",
        "\n",
        "\n",
        "ks = [3, 5]\n",
        "resultados = []\n",
        "\n",
        "for rs, (X_train, X_test, y_train, y_test) in splits.items():\n",
        "    for k in ks:\n",
        "        acc = treinar_avaliar_knn(X_train, X_test, y_train, y_test, k)\n",
        "        resultados.append((rs, k, acc))\n",
        "        print(f\"Random State {rs}, k={k}, Acurácia={acc:.4f}\")\n"
      ],
      "metadata": {
        "colab": {
          "base_uri": "https://localhost:8080/"
        },
        "id": "FNKHe8IM8bgV",
        "outputId": "f72e4949-0cdf-48e7-ff74-2c21c603988f"
      },
      "execution_count": 5,
      "outputs": [
        {
          "output_type": "stream",
          "name": "stdout",
          "text": [
            "Random State 42, k=3, Acurácia=0.7407\n",
            "Random State 42, k=5, Acurácia=0.7407\n",
            "Random State 17, k=3, Acurácia=0.6481\n",
            "Random State 17, k=5, Acurácia=0.6667\n",
            "Random State 24, k=3, Acurácia=0.7407\n",
            "Random State 24, k=5, Acurácia=0.6667\n"
          ]
        }
      ]
    },
    {
      "cell_type": "code",
      "source": [
        "\n",
        "\n",
        "df_resultados = pd.DataFrame(resultados, columns=['Random State', 'k', 'Acurácia'])\n",
        "\n",
        "\n",
        "melhor_resultado = df_resultados.loc[df_resultados['Acurácia'].idxmax()]\n",
        "print(\"\\nResultados gerais:\")\n",
        "print(df_resultados)\n",
        "print(\"\\nMelhor configuração:\")\n",
        "print(melhor_resultado)\n"
      ],
      "metadata": {
        "colab": {
          "base_uri": "https://localhost:8080/"
        },
        "id": "vecCDGN-8nfm",
        "outputId": "8aef7b2d-67b1-448b-aa5c-81c24b2b9253"
      },
      "execution_count": 6,
      "outputs": [
        {
          "output_type": "stream",
          "name": "stdout",
          "text": [
            "\n",
            "Resultados gerais:\n",
            "   Random State  k  Acurácia\n",
            "0            42  3  0.740741\n",
            "1            42  5  0.740741\n",
            "2            17  3  0.648148\n",
            "3            17  5  0.666667\n",
            "4            24  3  0.740741\n",
            "5            24  5  0.666667\n",
            "\n",
            "Melhor configuração:\n",
            "Random State    42.000000\n",
            "k                3.000000\n",
            "Acurácia         0.740741\n",
            "Name: 0, dtype: float64\n"
          ]
        }
      ]
    }
  ]
}