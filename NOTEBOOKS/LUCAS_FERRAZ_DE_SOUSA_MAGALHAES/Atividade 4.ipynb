{
  "nbformat": 4,
  "nbformat_minor": 0,
  "metadata": {
    "colab": {
      "provenance": []
    },
    "kernelspec": {
      "name": "python3",
      "display_name": "Python 3"
    },
    "language_info": {
      "name": "python"
    }
  },
  "cells": [
    {
      "cell_type": "code",
      "execution_count": 1,
      "metadata": {
        "id": "HxYxqyhH9CQr"
      },
      "outputs": [],
      "source": [
        "import pandas as pd\n",
        "\n",
        "# URL do dataset Wine\n",
        "url = 'https://archive.ics.uci.edu/ml/machine-learning-databases/wine/wine.data'\n",
        "\n",
        "# Nome das colunas em português BR\n",
        "column_names_pt_br = [\n",
        "    'classe',\n",
        "    'alcool',\n",
        "    'acido_malico',\n",
        "    'cinzas',\n",
        "    'alcalinidade_de_cinzas',\n",
        "    'magnesio',\n",
        "    'fenois_totais',\n",
        "    'flavanoides',\n",
        "    'fenois_nao_flavanoides',\n",
        "    'proantocianinas',\n",
        "    'intensidade_de_cor',\n",
        "    'matiz',\n",
        "    'od280_od315_de_vinhos_diluidos',\n",
        "    'prolina'\n",
        "]\n",
        "\n",
        "# Ler o arquivo CSV com as colunas especificadas, definindo a coluna 'classe' como object\n",
        "vinhos = pd.read_csv(url, names=column_names_pt_br, dtype={'classe': object})"
      ]
    },
    {
      "cell_type": "code",
      "source": [
        "\n",
        "X = vinhos.iloc[:, 1:]\n",
        "y = vinhos['classe']\n",
        "\n",
        "\n",
        "print(\"Dimensão dos dados:\", vinhos.shape)\n",
        "print(vinhos.head())"
      ],
      "metadata": {
        "colab": {
          "base_uri": "https://localhost:8080/"
        },
        "id": "m3f818G4-yMQ",
        "outputId": "2567cc8d-937b-403a-c6aa-f317ab11aef9"
      },
      "execution_count": 4,
      "outputs": [
        {
          "output_type": "stream",
          "name": "stdout",
          "text": [
            "Dimensão dos dados: (178, 14)\n",
            "  classe  alcool  acido_malico  cinzas  alcalinidade_de_cinzas  magnesio  \\\n",
            "0      1   14.23          1.71    2.43                    15.6       127   \n",
            "1      1   13.20          1.78    2.14                    11.2       100   \n",
            "2      1   13.16          2.36    2.67                    18.6       101   \n",
            "3      1   14.37          1.95    2.50                    16.8       113   \n",
            "4      1   13.24          2.59    2.87                    21.0       118   \n",
            "\n",
            "   fenois_totais  flavanoides  fenois_nao_flavanoides  proantocianinas  \\\n",
            "0           2.80         3.06                    0.28             2.29   \n",
            "1           2.65         2.76                    0.26             1.28   \n",
            "2           2.80         3.24                    0.30             2.81   \n",
            "3           3.85         3.49                    0.24             2.18   \n",
            "4           2.80         2.69                    0.39             1.82   \n",
            "\n",
            "   intensidade_de_cor  matiz  od280_od315_de_vinhos_diluidos  prolina  \n",
            "0                5.64   1.04                            3.92     1065  \n",
            "1                4.38   1.05                            3.40     1050  \n",
            "2                5.68   1.03                            3.17     1185  \n",
            "3                7.80   0.86                            3.45     1480  \n",
            "4                4.32   1.04                            2.93      735  \n"
          ]
        }
      ]
    },
    {
      "cell_type": "code",
      "source": [
        "\n",
        "from sklearn.model_selection import KFold\n",
        "\n",
        "\n",
        "random_states = [42, 17, 24]\n",
        "kf_config = {rs: KFold(n_splits=10, shuffle=True, random_state=rs) for rs in random_states}\n",
        "\n",
        "\n",
        "for random_state, kf in kf_config.items():\n",
        "    print(f\"\\nRandom State: {random_state}\")\n",
        "    for fold, (train_index, test_index) in enumerate(kf.split(X), 1):\n",
        "        print(f\"  Fold {fold}: {len(train_index)} treino, {len(test_index)} teste\")\n"
      ],
      "metadata": {
        "colab": {
          "base_uri": "https://localhost:8080/"
        },
        "id": "vcXoysDZ_KNG",
        "outputId": "aac4f4d0-686e-46b5-ced0-7b550152bed3"
      },
      "execution_count": 5,
      "outputs": [
        {
          "output_type": "stream",
          "name": "stdout",
          "text": [
            "\n",
            "Random State: 42\n",
            "  Fold 1: 160 treino, 18 teste\n",
            "  Fold 2: 160 treino, 18 teste\n",
            "  Fold 3: 160 treino, 18 teste\n",
            "  Fold 4: 160 treino, 18 teste\n",
            "  Fold 5: 160 treino, 18 teste\n",
            "  Fold 6: 160 treino, 18 teste\n",
            "  Fold 7: 160 treino, 18 teste\n",
            "  Fold 8: 160 treino, 18 teste\n",
            "  Fold 9: 161 treino, 17 teste\n",
            "  Fold 10: 161 treino, 17 teste\n",
            "\n",
            "Random State: 17\n",
            "  Fold 1: 160 treino, 18 teste\n",
            "  Fold 2: 160 treino, 18 teste\n",
            "  Fold 3: 160 treino, 18 teste\n",
            "  Fold 4: 160 treino, 18 teste\n",
            "  Fold 5: 160 treino, 18 teste\n",
            "  Fold 6: 160 treino, 18 teste\n",
            "  Fold 7: 160 treino, 18 teste\n",
            "  Fold 8: 160 treino, 18 teste\n",
            "  Fold 9: 161 treino, 17 teste\n",
            "  Fold 10: 161 treino, 17 teste\n",
            "\n",
            "Random State: 24\n",
            "  Fold 1: 160 treino, 18 teste\n",
            "  Fold 2: 160 treino, 18 teste\n",
            "  Fold 3: 160 treino, 18 teste\n",
            "  Fold 4: 160 treino, 18 teste\n",
            "  Fold 5: 160 treino, 18 teste\n",
            "  Fold 6: 160 treino, 18 teste\n",
            "  Fold 7: 160 treino, 18 teste\n",
            "  Fold 8: 160 treino, 18 teste\n",
            "  Fold 9: 161 treino, 17 teste\n",
            "  Fold 10: 161 treino, 17 teste\n"
          ]
        }
      ]
    },
    {
      "cell_type": "code",
      "source": [
        "\n",
        "from sklearn.neighbors import KNeighborsClassifier\n",
        "from sklearn.metrics import accuracy_score\n",
        "\n",
        "\n",
        "ks = [3, 5]\n",
        "\n",
        "\n",
        "resultados = []\n",
        "\n",
        "for random_state, kf in kf_config.items():\n",
        "    print(f\"\\nRandom State: {random_state}\")\n",
        "\n",
        "    for k in ks:\n",
        "        acuracias = []\n",
        "\n",
        "        for train_index, test_index in kf.split(X):\n",
        "            X_train, X_test = X.iloc[train_index], X.iloc[test_index]\n",
        "            y_train, y_test = y.iloc[train_index], y.iloc[test_index]\n",
        "\n",
        "\n",
        "            knn = KNeighborsClassifier(n_neighbors=k)\n",
        "            knn.fit(X_train, y_train)\n",
        "\n",
        "\n",
        "            y_pred = knn.predict(X_test)\n",
        "            acuracia = accuracy_score(y_test, y_pred)\n",
        "            acuracias.append(acuracia)\n",
        "\n",
        "\n",
        "        media = sum(acuracias) / len(acuracias)\n",
        "        desvio_padrao = pd.Series(acuracias).std()\n",
        "        resultados.append({\n",
        "            'random_state': random_state,\n",
        "            'k': k,\n",
        "            'media_acuracia': media,\n",
        "            'desvio_padrao': desvio_padrao\n",
        "        })\n",
        "\n",
        "        print(f\"  k={k} -> Média da Acurácia: {media:.4f}, Desvio Padrão: {desvio_padrao:.4f}\")\n"
      ],
      "metadata": {
        "colab": {
          "base_uri": "https://localhost:8080/"
        },
        "id": "JblkGqoW_RX_",
        "outputId": "efc9b4fa-7ec5-4b90-ad38-81c47be0eaf7"
      },
      "execution_count": 6,
      "outputs": [
        {
          "output_type": "stream",
          "name": "stdout",
          "text": [
            "\n",
            "Random State: 42\n",
            "  k=3 -> Média da Acurácia: 0.7036, Desvio Padrão: 0.1467\n",
            "  k=5 -> Média da Acurácia: 0.6641, Desvio Padrão: 0.1055\n",
            "\n",
            "Random State: 17\n",
            "  k=3 -> Média da Acurácia: 0.6987, Desvio Padrão: 0.1097\n",
            "  k=5 -> Média da Acurácia: 0.6876, Desvio Padrão: 0.1182\n",
            "\n",
            "Random State: 24\n",
            "  k=3 -> Média da Acurácia: 0.7127, Desvio Padrão: 0.1021\n",
            "  k=5 -> Média da Acurácia: 0.7127, Desvio Padrão: 0.0991\n"
          ]
        }
      ]
    },
    {
      "cell_type": "code",
      "source": [
        "\n",
        "import pandas as pd\n",
        "\n",
        "\n",
        "df_resultados = pd.DataFrame(resultados)\n",
        "\n",
        "\n",
        "for random_state in random_states:\n",
        "    print(f\"\\nResultados para Random State {random_state}:\")\n",
        "    df_rs = df_resultados[df_resultados['random_state'] == random_state]\n",
        "    print(df_rs)\n",
        "\n",
        "    melhor_k = df_rs.loc[df_rs['media_acuracia'].idxmax()]\n",
        "    print(f\"Melhor configuração: k={melhor_k['k']}, Média da Acurácia: {melhor_k['media_acuracia']:.4f}\")\n",
        "\n",
        "\n",
        "melhor_resultado = df_resultados.loc[df_resultados['media_acuracia'].idxmax()]\n",
        "print(\"\\nMelhor configuração geral:\")\n",
        "print(melhor_resultado)\n"
      ],
      "metadata": {
        "colab": {
          "base_uri": "https://localhost:8080/"
        },
        "id": "Kkcd9GKk_amO",
        "outputId": "75907307-3350-41bc-eae6-4a2d27a52402"
      },
      "execution_count": 7,
      "outputs": [
        {
          "output_type": "stream",
          "name": "stdout",
          "text": [
            "\n",
            "Resultados para Random State 42:\n",
            "   random_state  k  media_acuracia  desvio_padrao\n",
            "0            42  3        0.703595       0.146716\n",
            "1            42  5        0.664052       0.105488\n",
            "Melhor configuração: k=3.0, Média da Acurácia: 0.7036\n",
            "\n",
            "Resultados para Random State 17:\n",
            "   random_state  k  media_acuracia  desvio_padrao\n",
            "2            17  3        0.698693       0.109658\n",
            "3            17  5        0.687582       0.118182\n",
            "Melhor configuração: k=3.0, Média da Acurácia: 0.6987\n",
            "\n",
            "Resultados para Random State 24:\n",
            "   random_state  k  media_acuracia  desvio_padrao\n",
            "4            24  3        0.712745       0.102053\n",
            "5            24  5        0.712745       0.099056\n",
            "Melhor configuração: k=3.0, Média da Acurácia: 0.7127\n",
            "\n",
            "Melhor configuração geral:\n",
            "random_state      24.000000\n",
            "k                  3.000000\n",
            "media_acuracia     0.712745\n",
            "desvio_padrao      0.102053\n",
            "Name: 4, dtype: float64\n"
          ]
        }
      ]
    }
  ]
}